{
 "cells": [
  {
   "cell_type": "code",
   "execution_count": null,
   "metadata": {},
   "outputs": [],
   "source": [
    "%matplotlib inline\n",
    "import matplotlib.pyplot as plt\n",
    "import pandas as pd\n",
    "import numpy as np\n",
    "city_data_to_load = \"data/city_data.csv\"\n",
    "ride_data_to_load = \"data/ride_data.csv\"\n",
    "city_data= pd.read_csv(city_data_to_load)\n",
    "ride_data = pd.read_csv(ride_data_to_load)\n",
    "pyber_df = pd.merge(ride_data, city_data, how=\"left\", on=[\"city\", \"city\"])"
   ]
  },
  {
   "cell_type": "code",
   "execution_count": null,
   "metadata": {},
   "outputs": [],
   "source": [
    "avg_fare = pyber_df.groupby(\"city\")[\"fare\"].mean()\n",
    "rides_per_city = pyber_df.groupby(\"city\")[\"ride_id\"].count()\n",
    "city_type = pyber_df.groupby(\"city\")[\"type\"].first()\n",
    "drivers_per_city = pyber_df.groupby(\"city\")[\"driver_count\"].mean()\n",
    "drivers_per_city_boosted = (drivers_per_city * 5)\n",
    "my_dict = {\"Average Fare ($)\" : avg_fare, \"City Types\" : city_type, \"Drivers Per City\" : drivers_per_city_boosted, \"Total Number of Rides (Per City)\" : rides_per_city}\n",
    "scatter_data = pd.DataFrame(my_dict)"
   ]
  },
  {
   "cell_type": "code",
   "execution_count": null,
   "metadata": {},
   "outputs": [],
   "source": [
    "Rural = scatter_data[scatter_data[\"City Types\"]==\"Rural\"]\n",
    "Suburban = scatter_data[scatter_data[\"City Types\"]==\"Suburban\"]\n",
    "Urban = scatter_data[scatter_data[\"City Types\"]==\"Urban\"]\n",
    "Rural_fare = Rural[\"Average Fare ($)\"]\n",
    "Rural_rides = Rural[\"Total Number of Rides (Per City)\"]\n",
    "Rural_drivers = Rural[\"Drivers Per City\"]\n",
    "Suburban_fare = Suburban[\"Average Fare ($)\"]\n",
    "Suburban_rides = Suburban[\"Total Number of Rides (Per City)\"]\n",
    "Suburban_drivers = Suburban[\"Drivers Per City\"]\n",
    "Urban_fare = Urban[\"Average Fare ($)\"]\n",
    "Urban_rides = Urban[\"Total Number of Rides (Per City)\"]\n",
    "Urban_drivers = Urban[\"Drivers Per City\"]"
   ]
  },
  {
   "cell_type": "code",
   "execution_count": null,
   "metadata": {
    "scrolled": true
   },
   "outputs": [],
   "source": [
    "plt.scatter(Rural_rides, Rural_fare, label = \"Rural\" ,marker=\"o\", facecolors=\"gold\", edgecolors=\"black\",\n",
    "            s=Rural_drivers * 2, alpha=.75)\n",
    "plt.scatter(Suburban_rides, Suburban_fare, label = \"Suburban\" ,marker=\"o\", facecolors=\"skyblue\", edgecolors=\"black\",\n",
    "            s=Suburban_drivers * 2, alpha=.75)\n",
    "plt.scatter(Urban_rides, Urban_fare, label = \"Urban\", marker=\"o\", facecolors=\"coral\", edgecolors=\"black\",\n",
    "            s=Urban_drivers * 2, alpha=.75)\n",
    "plt.title(\"Pyber Ride Sharing Data (2016)\")\n",
    "plt.xlabel(\"Average Fare ($)\")\n",
    "plt.ylabel(\"Total Number of Rides (Per City)\")\n",
    "legend = plt.legend(title= \"City Types\", loc=\"best\") \n",
    "plt.savefig(\"Pyber Ride Sharing Data (2016).png\")\n",
    "plt.show()"
   ]
  },
  {
   "cell_type": "code",
   "execution_count": null,
   "metadata": {},
   "outputs": [],
   "source": [
    "sum_fare = pyber_df.groupby(\"type\")[\"fare\"].sum()\n",
    "Rural_t = sum_fare[\"Rural\"]\n",
    "Suburban_t = sum_fare[\"Suburban\"]\n",
    "Urban_t = sum_fare[\"Urban\"]\n",
    "fare_total = sum_fare.sum()\n",
    "rural_fare = (Rural_t / fare_total)\n",
    "suburban_fare = (Suburban_t / fare_total)\n",
    "urban_fare = (Urban_t / fare_total)\n",
    "labels = [\"Rural\", \"Suburban\", \"Urban\"]\n",
    "sizes = [rural_fare, suburban_fare, urban_fare]\n",
    "colors = [\"gold\", \"lightskyblue\", \"lightcoral\"]\n",
    "explode = (0, 0, 0.2)\n",
    "plt.title(\"% of Total Fares By City Type\")\n",
    "plt.pie(sizes, explode=explode, labels=labels, colors=colors,\n",
    "        autopct=\"%1.1f%%\", shadow=True, startangle=120)\n",
    "plt.savefig(\"% of Total Fares By City Type.png\")\n",
    "plt.show()"
   ]
  },
  {
   "cell_type": "code",
   "execution_count": null,
   "metadata": {},
   "outputs": [],
   "source": [
    "rides_count = pyber_df.groupby(\"type\")[\"ride_id\"].count()\n",
    "rides_total = rides_count.sum()\n",
    "Rural_r = rides_count[\"Rural\"]\n",
    "Suburban_r = rides_count[\"Suburban\"]\n",
    "Urban_r = rides_count[\"Urban\"]\n",
    "rural_rides = (Rural_r / rides_total)\n",
    "suburban_rides = (Suburban_r / rides_total)\n",
    "urban_rides = (Urban_r / rides_total)\n",
    "labels = [\"Rural\", \"Suburban\", \"Urban\"]\n",
    "sizes = [rural_rides, suburban_rides, urban_rides]\n",
    "colors = [\"gold\", \"lightskyblue\", \"lightcoral\"]\n",
    "explode = (0, 0, 0.2)\n",
    "plt.title(\"% of Total Rides By City Type\")\n",
    "plt.pie(sizes, explode=explode, labels=labels, colors=colors,\n",
    "        autopct=\"%1.1f%%\", shadow=True, startangle=120)\n",
    "plt.savefig(\"% of Total Riders By City Type.png\")\n",
    "plt.show()"
   ]
  },
  {
   "cell_type": "code",
   "execution_count": null,
   "metadata": {},
   "outputs": [],
   "source": [
    "driver_count = city_data.groupby(\"type\")[\"driver_count\"].sum()\n",
    "driver_total = driver_count.sum()\n",
    "Rural_d = driver_count[\"Rural\"]\n",
    "Suburban_d = driver_count[\"Suburban\"]\n",
    "Urban_d = driver_count[\"Urban\"]\n",
    "rural_driver = (Rural_d / driver_total)\n",
    "suburban_driver = (Suburban_d / driver_total)\n",
    "urban_driver = (Urban_d / driver_total)\n",
    "labels = [\"Rural\", \"Suburban\", \"Urban\"]\n",
    "sizes = [rural_driver, suburban_driver, urban_driver]\n",
    "colors = [\"gold\", \"lightskyblue\", \"lightcoral\"]\n",
    "explode = (0, 0, 0.2)\n",
    "plt.title(\"% of Total Drivers By City Type\")\n",
    "plt.pie(sizes, explode=explode, labels=labels, colors=colors,\n",
    "        autopct=\"%1.1f%%\", shadow=True, startangle=120)\n",
    "plt.savefig(\"% of Total Drivers By City Type.png\")\n",
    "plt.show()"
   ]
  },
  {
   "cell_type": "code",
   "execution_count": null,
   "metadata": {},
   "outputs": [],
   "source": [
    "#The Urban areas are oversaturated with drivers (more drivers than total pct of rides)\n",
    "#The Suburban areas are underserved, and drivers are better compenstated (Rides and fares are a higher total pct than total drivers)\n",
    "#Rural areas are similar in characteristics to Suburban areas, but their total volume depresses driver wages"
   ]
  }
 ],
 "metadata": {
  "kernelspec": {
   "display_name": "Python 3",
   "language": "python",
   "name": "python3"
  },
  "language_info": {
   "codemirror_mode": {
    "name": "ipython",
    "version": 3
   },
   "file_extension": ".py",
   "mimetype": "text/x-python",
   "name": "python",
   "nbconvert_exporter": "python",
   "pygments_lexer": "ipython3",
   "version": "3.7.3"
  }
 },
 "nbformat": 4,
 "nbformat_minor": 2
}
